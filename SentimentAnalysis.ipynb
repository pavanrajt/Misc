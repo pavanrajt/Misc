{
 "cells": [
  {
   "cell_type": "code",
   "execution_count": 1,
   "metadata": {
    "collapsed": true
   },
   "outputs": [],
   "source": [
    "#Sentiment Analysis\n",
    "import nltk\n",
    "from nltk.tokenize import word_tokenize"
   ]
  },
  {
   "cell_type": "code",
   "execution_count": 18,
   "metadata": {
    "collapsed": true
   },
   "outputs": [],
   "source": [
    "import os\n",
    "os.chdir('C:/Users/Pavan/Desktop/Text Analytics/Day3/Data Sets')"
   ]
  },
  {
   "cell_type": "code",
   "execution_count": 2,
   "metadata": {
    "collapsed": true
   },
   "outputs": [],
   "source": [
    "# Step 1 – Training data\n",
    "train = [(\"Great place to be when you are in Bangalore.\", \"pos\"),\n",
    "  (\"The place was being renovated when I visited so the seating was limited.\", \"neg\"),\n",
    "  (\"Loved the ambience, loved the food\", \"pos\"),\n",
    "  (\"The food is delicious but not over the top.\", \"neg\"),\n",
    "  (\"Service - Little slow, probably because too many people.\", \"neg\"),\n",
    "  (\"The place is not easy to locate\", \"neg\"),\n",
    "  (\"Mushroom fried rice was spicy\", \"pos\"),\n",
    "]"
   ]
  },
  {
   "cell_type": "code",
   "execution_count": 3,
   "metadata": {},
   "outputs": [
    {
     "name": "stdout",
     "output_type": "stream",
     "text": [
      "{'people', '-', 'when', 'you', 'seating', ',', 'limited', 'so', 'service', 'food', 'to', 'being', 'loved', 'not', 'locate', 'place', 'easy', 'mushroom', 'because', 'rice', 'great', 'renovated', 'fried', '.', 'is', 'but', 'little', 'visited', 'many', 'ambience', 'over', 'slow', 'top', 'the', 'was', 'spicy', 'too', 'in', 'i', 'bangalore', 'probably', 'be', 'delicious', 'are'}\n"
     ]
    }
   ],
   "source": [
    "# Step 2\n",
    "dictionary = set(word.lower() for doc in train for word in word_tokenize(doc[0]))\n",
    "print(dictionary)"
   ]
  },
  {
   "cell_type": "code",
   "execution_count": 4,
   "metadata": {},
   "outputs": [
    {
     "name": "stdout",
     "output_type": "stream",
     "text": [
      "[({'people': False, '-': False, 'when': True, 'seating': False, ',': False, 'limited': False, 'so': False, 'service': False, 'food': False, 'locate': False, 'being': False, 'not': False, 'because': False, 'mushroom': False, 'easy': False, 'rice': False, 'great': False, 'renovated': False, 'visited': False, 'fried': False, '.': True, 'is': False, 'but': False, 'little': False, 'many': False, 'ambience': False, 'over': False, 'slow': False, 'to': True, 'top': False, 'was': False, 'spicy': False, 'too': False, 'in': True, 'i': False, 'you': True, 'place': True, 'bangalore': False, 'probably': False, 'be': True, 'the': False, 'loved': False, 'delicious': False, 'are': True}, 'pos'), ({'people': False, '-': False, 'when': True, 'seating': True, ',': False, 'limited': True, 'so': True, 'service': False, 'food': False, 'locate': False, 'being': True, 'not': False, 'because': False, 'mushroom': False, 'easy': False, 'rice': False, 'great': False, 'renovated': True, 'visited': True, 'fried': False, '.': True, 'is': False, 'but': False, 'little': False, 'many': False, 'ambience': False, 'over': False, 'slow': False, 'to': False, 'top': False, 'was': True, 'spicy': False, 'too': False, 'in': False, 'i': False, 'you': False, 'place': True, 'bangalore': False, 'probably': False, 'be': False, 'the': True, 'loved': False, 'delicious': False, 'are': False}, 'neg'), ({'people': False, '-': False, 'when': False, 'seating': False, ',': True, 'limited': False, 'so': False, 'service': False, 'food': True, 'locate': False, 'being': False, 'not': False, 'because': False, 'mushroom': False, 'easy': False, 'rice': False, 'great': False, 'renovated': False, 'visited': False, 'fried': False, '.': False, 'is': False, 'but': False, 'little': False, 'many': False, 'ambience': True, 'over': False, 'slow': False, 'to': False, 'top': False, 'was': False, 'spicy': False, 'too': False, 'in': False, 'i': False, 'you': False, 'place': False, 'bangalore': False, 'probably': False, 'be': False, 'the': True, 'loved': True, 'delicious': False, 'are': False}, 'pos'), ({'people': False, '-': False, 'when': False, 'seating': False, ',': False, 'limited': False, 'so': False, 'service': False, 'food': True, 'locate': False, 'being': False, 'not': True, 'because': False, 'mushroom': False, 'easy': False, 'rice': False, 'great': False, 'renovated': False, 'visited': False, 'fried': False, '.': True, 'is': True, 'but': True, 'little': False, 'many': False, 'ambience': False, 'over': True, 'slow': False, 'to': False, 'top': True, 'was': False, 'spicy': False, 'too': False, 'in': False, 'i': False, 'you': False, 'place': False, 'bangalore': False, 'probably': False, 'be': False, 'the': True, 'loved': False, 'delicious': True, 'are': False}, 'neg'), ({'people': True, '-': True, 'when': False, 'seating': False, ',': True, 'limited': False, 'so': False, 'service': False, 'food': False, 'locate': False, 'being': False, 'not': False, 'because': True, 'mushroom': False, 'easy': False, 'rice': False, 'great': False, 'renovated': False, 'visited': False, 'fried': False, '.': True, 'is': False, 'but': False, 'little': False, 'many': True, 'ambience': False, 'over': False, 'slow': True, 'to': False, 'top': False, 'was': False, 'spicy': False, 'too': True, 'in': False, 'i': False, 'you': False, 'place': False, 'bangalore': False, 'probably': True, 'be': False, 'the': False, 'loved': False, 'delicious': False, 'are': False}, 'neg'), ({'people': False, '-': False, 'when': False, 'seating': False, ',': False, 'limited': False, 'so': False, 'service': False, 'food': False, 'locate': True, 'being': False, 'not': True, 'because': False, 'mushroom': False, 'easy': True, 'rice': False, 'great': False, 'renovated': False, 'visited': False, 'fried': False, '.': False, 'is': True, 'but': False, 'little': False, 'many': False, 'ambience': False, 'over': False, 'slow': False, 'to': True, 'top': False, 'was': False, 'spicy': False, 'too': False, 'in': False, 'i': False, 'you': False, 'place': True, 'bangalore': False, 'probably': False, 'be': False, 'the': False, 'loved': False, 'delicious': False, 'are': False}, 'neg'), ({'people': False, '-': False, 'when': False, 'seating': False, ',': False, 'limited': False, 'so': False, 'service': False, 'food': False, 'locate': False, 'being': False, 'not': False, 'because': False, 'mushroom': False, 'easy': False, 'rice': True, 'great': False, 'renovated': False, 'visited': False, 'fried': True, '.': False, 'is': False, 'but': False, 'little': False, 'many': False, 'ambience': False, 'over': False, 'slow': False, 'to': False, 'top': False, 'was': True, 'spicy': True, 'too': False, 'in': False, 'i': False, 'you': False, 'place': False, 'bangalore': False, 'probably': False, 'be': False, 'the': False, 'loved': False, 'delicious': False, 'are': False}, 'pos')]\n"
     ]
    }
   ],
   "source": [
    "# Step 3\n",
    "t = [({word: (word in word_tokenize(x[0])) for word in dictionary}, x[1]) for x in train]\n",
    "print(t)"
   ]
  },
  {
   "cell_type": "code",
   "execution_count": 5,
   "metadata": {
    "collapsed": true
   },
   "outputs": [],
   "source": [
    "# Step 4 – the classifier is trained with sample data\n",
    "classifier = nltk.NaiveBayesClassifier.train(t)"
   ]
  },
  {
   "cell_type": "code",
   "execution_count": 8,
   "metadata": {},
   "outputs": [
    {
     "name": "stdout",
     "output_type": "stream",
     "text": [
      "pos\n"
     ]
    }
   ],
   "source": [
    "test_data = \"Manchurian was hot and spicy\"\n",
    "test_data_features = {word.lower(): (word in word_tokenize(test_data.lower())) for word in dictionary}\n",
    "  \n",
    "print (classifier.classify(test_data_features))"
   ]
  },
  {
   "cell_type": "code",
   "execution_count": 9,
   "metadata": {},
   "outputs": [],
   "source": [
    "# Step 1a – Training data\n",
    "train = [[\"Great place to be when you are in Bangalore.\", \"pos\"],\n",
    "  [\"The place was being renovated when I visited so the seating was limited.\", \"neg\"],\n",
    "  [\"Loved the ambience, loved the food\", \"pos\"],\n",
    "  [\"The food is delicious but not over the top.\", \"neg\"],\n",
    "  [\"Service - Little slow, probably because too many people.\", \"neg\"],\n",
    "  [\"The place is not easy to locate\", \"neg\"],\n",
    "  [\"Mushroom fried rice was spicy\", \"pos\"],\n",
    "]"
   ]
  },
  {
   "cell_type": "code",
   "execution_count": 10,
   "metadata": {},
   "outputs": [
    {
     "name": "stdout",
     "output_type": "stream",
     "text": [
      "{'people', '-', 'when', 'you', 'seating', ',', 'limited', 'so', 'service', 'food', 'to', 'being', 'loved', 'not', 'locate', 'place', 'easy', 'mushroom', 'because', 'rice', 'great', 'renovated', 'fried', '.', 'is', 'but', 'little', 'visited', 'many', 'ambience', 'over', 'slow', 'top', 'the', 'was', 'spicy', 'too', 'in', 'i', 'bangalore', 'probably', 'be', 'delicious', 'are'}\n"
     ]
    }
   ],
   "source": [
    "# Step 2a\n",
    "dictionary = set(word.lower() for doc in train for word in word_tokenize(doc[0]))\n",
    "print(dictionary)"
   ]
  },
  {
   "cell_type": "code",
   "execution_count": 11,
   "metadata": {},
   "outputs": [
    {
     "name": "stdout",
     "output_type": "stream",
     "text": [
      "[({'people': False, '-': False, 'when': True, 'seating': False, ',': False, 'limited': False, 'so': False, 'service': False, 'food': False, 'locate': False, 'being': False, 'not': False, 'because': False, 'mushroom': False, 'easy': False, 'rice': False, 'great': False, 'renovated': False, 'visited': False, 'fried': False, '.': True, 'is': False, 'but': False, 'little': False, 'many': False, 'ambience': False, 'over': False, 'slow': False, 'to': True, 'top': False, 'was': False, 'spicy': False, 'too': False, 'in': True, 'i': False, 'you': True, 'place': True, 'bangalore': False, 'probably': False, 'be': True, 'the': False, 'loved': False, 'delicious': False, 'are': True}, 'pos'), ({'people': False, '-': False, 'when': True, 'seating': True, ',': False, 'limited': True, 'so': True, 'service': False, 'food': False, 'locate': False, 'being': True, 'not': False, 'because': False, 'mushroom': False, 'easy': False, 'rice': False, 'great': False, 'renovated': True, 'visited': True, 'fried': False, '.': True, 'is': False, 'but': False, 'little': False, 'many': False, 'ambience': False, 'over': False, 'slow': False, 'to': False, 'top': False, 'was': True, 'spicy': False, 'too': False, 'in': False, 'i': False, 'you': False, 'place': True, 'bangalore': False, 'probably': False, 'be': False, 'the': True, 'loved': False, 'delicious': False, 'are': False}, 'neg'), ({'people': False, '-': False, 'when': False, 'seating': False, ',': True, 'limited': False, 'so': False, 'service': False, 'food': True, 'locate': False, 'being': False, 'not': False, 'because': False, 'mushroom': False, 'easy': False, 'rice': False, 'great': False, 'renovated': False, 'visited': False, 'fried': False, '.': False, 'is': False, 'but': False, 'little': False, 'many': False, 'ambience': True, 'over': False, 'slow': False, 'to': False, 'top': False, 'was': False, 'spicy': False, 'too': False, 'in': False, 'i': False, 'you': False, 'place': False, 'bangalore': False, 'probably': False, 'be': False, 'the': True, 'loved': True, 'delicious': False, 'are': False}, 'pos'), ({'people': False, '-': False, 'when': False, 'seating': False, ',': False, 'limited': False, 'so': False, 'service': False, 'food': True, 'locate': False, 'being': False, 'not': True, 'because': False, 'mushroom': False, 'easy': False, 'rice': False, 'great': False, 'renovated': False, 'visited': False, 'fried': False, '.': True, 'is': True, 'but': True, 'little': False, 'many': False, 'ambience': False, 'over': True, 'slow': False, 'to': False, 'top': True, 'was': False, 'spicy': False, 'too': False, 'in': False, 'i': False, 'you': False, 'place': False, 'bangalore': False, 'probably': False, 'be': False, 'the': True, 'loved': False, 'delicious': True, 'are': False}, 'neg'), ({'people': True, '-': True, 'when': False, 'seating': False, ',': True, 'limited': False, 'so': False, 'service': False, 'food': False, 'locate': False, 'being': False, 'not': False, 'because': True, 'mushroom': False, 'easy': False, 'rice': False, 'great': False, 'renovated': False, 'visited': False, 'fried': False, '.': True, 'is': False, 'but': False, 'little': False, 'many': True, 'ambience': False, 'over': False, 'slow': True, 'to': False, 'top': False, 'was': False, 'spicy': False, 'too': True, 'in': False, 'i': False, 'you': False, 'place': False, 'bangalore': False, 'probably': True, 'be': False, 'the': False, 'loved': False, 'delicious': False, 'are': False}, 'neg'), ({'people': False, '-': False, 'when': False, 'seating': False, ',': False, 'limited': False, 'so': False, 'service': False, 'food': False, 'locate': True, 'being': False, 'not': True, 'because': False, 'mushroom': False, 'easy': True, 'rice': False, 'great': False, 'renovated': False, 'visited': False, 'fried': False, '.': False, 'is': True, 'but': False, 'little': False, 'many': False, 'ambience': False, 'over': False, 'slow': False, 'to': True, 'top': False, 'was': False, 'spicy': False, 'too': False, 'in': False, 'i': False, 'you': False, 'place': True, 'bangalore': False, 'probably': False, 'be': False, 'the': False, 'loved': False, 'delicious': False, 'are': False}, 'neg'), ({'people': False, '-': False, 'when': False, 'seating': False, ',': False, 'limited': False, 'so': False, 'service': False, 'food': False, 'locate': False, 'being': False, 'not': False, 'because': False, 'mushroom': False, 'easy': False, 'rice': True, 'great': False, 'renovated': False, 'visited': False, 'fried': True, '.': False, 'is': False, 'but': False, 'little': False, 'many': False, 'ambience': False, 'over': False, 'slow': False, 'to': False, 'top': False, 'was': True, 'spicy': True, 'too': False, 'in': False, 'i': False, 'you': False, 'place': False, 'bangalore': False, 'probably': False, 'be': False, 'the': False, 'loved': False, 'delicious': False, 'are': False}, 'pos')]\n"
     ]
    }
   ],
   "source": [
    "# Step 3a\n",
    "t = [({word: (word in word_tokenize(x[0])) for word in dictionary}, x[1]) for x in train]\n",
    "print(t)"
   ]
  },
  {
   "cell_type": "code",
   "execution_count": 12,
   "metadata": {
    "collapsed": true
   },
   "outputs": [],
   "source": [
    "# Step 4a – the classifier is trained with sample data\n",
    "classifier = nltk.NaiveBayesClassifier.train(t)"
   ]
  },
  {
   "cell_type": "code",
   "execution_count": 13,
   "metadata": {},
   "outputs": [
    {
     "name": "stdout",
     "output_type": "stream",
     "text": [
      "pos\n"
     ]
    }
   ],
   "source": [
    "test_data = \"Manchurian was hot and spicy\"\n",
    "test_data_features = {word.lower(): (word in word_tokenize(test_data.lower())) for word in dictionary}\n",
    "  \n",
    "print (classifier.classify(test_data_features))"
   ]
  },
  {
   "cell_type": "code",
   "execution_count": 14,
   "metadata": {},
   "outputs": [
    {
     "name": "stdout",
     "output_type": "stream",
     "text": [
      "pos\n"
     ]
    }
   ],
   "source": [
    "test_data = \"Manchurian was hot and spicy\"\n",
    "test_data_features = {word.lower(): (word in word_tokenize(test_data.lower())) for word in dictionary}\n",
    "  \n",
    "print (classifier.classify(test_data_features))"
   ]
  },
  {
   "cell_type": "code",
   "execution_count": 19,
   "metadata": {},
   "outputs": [
    {
     "data": {
      "text/plain": [
       "'negative,Not Available\\n'"
      ]
     },
     "execution_count": 19,
     "metadata": {},
     "output_type": "execute_result"
    }
   ],
   "source": [
    "file = open(\"tweetsentiments.csv\")\n",
    "raw_data = file.readlines()\n",
    "raw_data[1]"
   ]
  },
  {
   "cell_type": "code",
   "execution_count": 23,
   "metadata": {},
   "outputs": [
    {
     "name": "stdout",
     "output_type": "stream",
     "text": [
      "[['Not Available', 'negative'], ['IOS 9 App Transport Security. Mm need to check if my 3rd party network pod supports it http://t.co/fmtcfUAdgj', 'neutral'], ['\"Mar if you have an iOS device', 'neutral'], ['@jimmie_vanagon my phone does not run on latest IOS which may account for problem the other day .. time it was replaced', 'negative']]\n"
     ]
    }
   ],
   "source": [
    "train = []\n",
    "for row in raw_data[1:5]:\n",
    "    new_row = []\n",
    "    new_row.append(row.split(\",\")[1].rstrip(\"\\n\"))\n",
    "    new_row.append(row.split(',')[0])\n",
    "    train.append(new_row)\n",
    "print(train)"
   ]
  },
  {
   "cell_type": "code",
   "execution_count": 24,
   "metadata": {},
   "outputs": [
    {
     "name": "stdout",
     "output_type": "stream",
     "text": [
      "{'run', 'may', 'problem', 'transport', ':', 'you', 'device', 'to', 'for', 'which', 'not', 'mm', '//t.co/fmtcfuadgj', 'on', 'replaced', 'party', '..', 'need', 'security', 'app', 'http', '9', '.', 'available', 'network', 'jimmie_vanagon', 'check', 'phone', '@', 'the', 'was', 'it', 'time', 'an', 'account', 'supports', '``', 'pod', '3rd', 'day', 'does', 'have', 'if', 'latest', 'mar', 'ios', 'other', 'my'}\n"
     ]
    }
   ],
   "source": [
    "# Step 2\n",
    "dictionary = set(word.lower() for doc in train for word in word_tokenize(doc[0]))\n",
    "print(dictionary)"
   ]
  },
  {
   "cell_type": "code",
   "execution_count": 25,
   "metadata": {},
   "outputs": [
    {
     "name": "stdout",
     "output_type": "stream",
     "text": [
      "[({'may': False, 'you': False, 'mar': False, 'device': False, '.': False, 'to': False, 'for': False, 'which': False, 'not': False, 'run': False, 'mm': False, 'on': False, 'replaced': False, 'http': False, 'party': False, 'need': False, 'security': False, 'app': False, 'transport': False, '9': False, 'latest': False, 'available': False, 'network': False, '//t.co/fmtcfuadgj': False, 'jimmie_vanagon': False, 'check': False, 'phone': False, '@': False, 'was': False, 'it': False, 'time': False, 'does': False, '..': False, 'an': False, 'account': False, 'supports': False, '``': False, 'pod': False, '3rd': False, 'day': False, 'the': False, 'have': False, 'if': False, ':': False, 'problem': False, 'ios': False, 'other': False, 'my': False}, 'negative'), ({'may': False, 'you': False, 'mar': False, 'device': False, '.': True, 'to': True, 'for': False, 'which': False, 'not': False, 'run': False, 'mm': False, 'on': False, 'replaced': False, 'http': True, 'party': True, 'need': True, 'security': False, 'app': False, 'transport': False, '9': True, 'latest': False, 'available': False, 'network': True, '//t.co/fmtcfuadgj': False, 'jimmie_vanagon': False, 'check': True, 'phone': False, '@': False, 'was': False, 'it': True, 'time': False, 'does': False, '..': False, 'an': False, 'account': False, 'supports': True, '``': False, 'pod': True, '3rd': True, 'day': False, 'the': False, 'have': False, 'if': True, ':': True, 'problem': False, 'ios': False, 'other': False, 'my': True}, 'neutral'), ({'may': False, 'you': True, 'mar': False, 'device': True, '.': False, 'to': False, 'for': False, 'which': False, 'not': False, 'run': False, 'mm': False, 'on': False, 'replaced': False, 'http': False, 'party': False, 'need': False, 'security': False, 'app': False, 'transport': False, '9': False, 'latest': False, 'available': False, 'network': False, '//t.co/fmtcfuadgj': False, 'jimmie_vanagon': False, 'check': False, 'phone': False, '@': False, 'was': False, 'it': False, 'time': False, 'does': False, '..': False, 'an': True, 'account': False, 'supports': False, '``': True, 'pod': False, '3rd': False, 'day': False, 'the': False, 'have': True, 'if': True, ':': False, 'problem': False, 'ios': False, 'other': False, 'my': False}, 'neutral'), ({'may': True, 'you': False, 'mar': False, 'device': False, '.': False, 'to': False, 'for': True, 'which': True, 'not': True, 'run': True, 'mm': False, 'on': True, 'replaced': True, 'http': False, 'party': False, 'need': False, 'security': False, 'app': False, 'transport': False, '9': False, 'latest': True, 'available': False, 'network': False, '//t.co/fmtcfuadgj': False, 'jimmie_vanagon': True, 'check': False, 'phone': True, '@': True, 'was': True, 'it': True, 'time': True, 'does': True, '..': True, 'an': False, 'account': True, 'supports': False, '``': False, 'pod': False, '3rd': False, 'day': True, 'the': True, 'have': False, 'if': False, ':': False, 'problem': True, 'ios': False, 'other': True, 'my': True}, 'negative')]\n"
     ]
    }
   ],
   "source": [
    "# Step 3a\n",
    "t = [({word: (word in word_tokenize(x[0])) for word in dictionary}, x[1]) for x in train]\n",
    "print(t)"
   ]
  },
  {
   "cell_type": "code",
   "execution_count": 26,
   "metadata": {
    "collapsed": true
   },
   "outputs": [],
   "source": [
    "# Step 4a – the classifier is trained with sample data\n",
    "classifier = nltk.NaiveBayesClassifier.train(t)"
   ]
  },
  {
   "cell_type": "code",
   "execution_count": 27,
   "metadata": {},
   "outputs": [
    {
     "name": "stdout",
     "output_type": "stream",
     "text": [
      "negative\n"
     ]
    }
   ],
   "source": [
    "test_data = \"Apple ipad is good\"\n",
    "test_data_features = {word.lower(): (word in word_tokenize(test_data.lower())) for word in dictionary}\n",
    "  \n",
    "print (classifier.classify(test_data_features))"
   ]
  }
 ],
 "metadata": {
  "kernelspec": {
   "display_name": "Python 3",
   "language": "python",
   "name": "python3"
  },
  "language_info": {
   "codemirror_mode": {
    "name": "ipython",
    "version": 3
   },
   "file_extension": ".py",
   "mimetype": "text/x-python",
   "name": "python",
   "nbconvert_exporter": "python",
   "pygments_lexer": "ipython3",
   "version": "3.5.4"
  }
 },
 "nbformat": 4,
 "nbformat_minor": 2
}
